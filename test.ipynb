{
 "cells": [
  {
   "cell_type": "code",
   "execution_count": 1,
   "metadata": {},
   "outputs": [],
   "source": [
    "import datetime\n",
    "import os\n",
    "import torch\n",
    "import torch.nn as nn\n",
    "import torchvision\n",
    "from sklearn.metrics import confusion_matrix, accuracy_score, classification_report, roc_auc_score\n",
    "import numpy as np\n",
    "from torch.utils.data import DataLoader as DataLoader\n",
    "from torchvision.transforms import Compose, Resize, ToTensor, Normalize\n",
    "from melSpecDataset import MelSpecDataset\n",
    "from matplotlib import pyplot as plt\n",
    "import basic_model as net0\n",
    "import ModMusicRedNet as net1\n",
    "import RBFMusicNet as net2\n"
   ]
  },
  {
   "cell_type": "code",
   "execution_count": 2,
   "metadata": {},
   "outputs": [],
   "source": [
    "# device\n",
    "device = torch.device('cpu')\n",
    "\n",
    "# set output directory\n",
    "out_dir = './output/'\n",
    "os.makedirs(out_dir, exist_ok=True)\n",
    "\n",
    "test_dir = './splitdata/testing'\n",
    "batch_size = 64\n"
   ]
  },
  {
   "cell_type": "code",
   "execution_count": null,
   "metadata": {},
   "outputs": [],
   "source": [
    "def calcMeanStd ():\n",
    "    # Assuming MelSpecDataset is your dataset class and train_dir is your training directory\n",
    "    resize_size = (258, 128)\n",
    "    dataset = MelSpecDataset(test_dir, transform=Compose([Resize(resize_size), ToTensor()]))\n",
    "\n",
    "    # Create a DataLoader with the desired batch size\n",
    "    loader = DataLoader(dataset, batch_size=64, shuffle=False)\n",
    "\n",
    "    # Variables to accumulate the sum and sum of squares\n",
    "    mean_sum = 0.0\n",
    "    sum_of_squares = 0.0\n",
    "    nb_samples = 0\n",
    "\n",
    "    # Loop through all the batches in the DataLoader\n",
    "    for images, _ in loader:\n",
    "        # Flatten the images to (batch_size, pixels)\n",
    "        images = images.view(images.size(0), -1)\n",
    "        # Sum up the mean and mean of squares\n",
    "        mean_sum += images.mean(1).sum(0)\n",
    "        sum_of_squares += (images ** 2).mean(1).sum(0)\n",
    "        # Count the total number of samples (images) processed\n",
    "        nb_samples += images.size(0)\n",
    "\n",
    "    # Calculate the mean and standard deviation\n",
    "    mean = mean_sum / nb_samples\n",
    "    # For std, we need to take the square root of the variance (average of the squared differences from the mean)\n",
    "    std = (sum_of_squares / nb_samples - mean ** 2) ** 0.5\n",
    "\n",
    "    # Convert to scalar for single-channel image\n",
    "    mean = mean.item()\n",
    "    std = std.item()\n",
    "\n",
    "    #print(f'Calculated mean: {mean}')\n",
    "    #print(f'Calculated std: {std}')\n",
    "    return mean, std"
   ]
  },
  {
   "cell_type": "code",
   "execution_count": 3,
   "metadata": {},
   "outputs": [
    {
     "name": "stdout",
     "output_type": "stream",
     "text": [
      "model loaded OK!\n"
     ]
    }
   ],
   "source": [
    "model = net1.MusicClassNet()\n",
    "params = torch.load('./model_mod_2023-12-05_08-13-43.pth')\n",
    "#model = net2.MusicGenreClassifierRBF((4*128*128), 10, 10)\n",
    "#params = torch.load('./model_RBF_2023-12-04_19-32-56.pth')\n",
    "model.load_state_dict(params)\n",
    "model.to(device)\n",
    "print('model loaded OK!')\n",
    "\n",
    "mean, std = calcMeanStd()\n",
    "resize_size = (258, 128)\n",
    "transform = Compose([\n",
    "    Resize(resize_size),\n",
    "    ToTensor(),\n",
    "    Normalize(mean=[mean], std=[std]) \n",
    "])\n",
    "\n",
    "#training\n",
    "testset = MelSpecDataset(test_dir, transform)\n",
    "data_loader = DataLoader(dataset=testset, batch_size=batch_size, shuffle=False)\n"
   ]
  },
  {
   "cell_type": "code",
   "execution_count": 4,
   "metadata": {},
   "outputs": [],
   "source": [
    "def test():\n",
    "    model.eval()\n",
    "    model.to(device)\n",
    "\n",
    "    # initalize arrays for storing info needed for evaluation metrics\n",
    "    all_labels = []\n",
    "    all_outputs = []\n",
    "\n",
    "    with torch.no_grad():\n",
    "        for melspecs, labels in data_loader:\n",
    "            audios = melspecs.to(device)\n",
    "            labels = labels.to(device)\n",
    "            #print(audios[20][2][20])\n",
    "            # calculate losses and call call model\n",
    "            output = model(audios)\n",
    "            #print(output)\n",
    "            # store outputs and labels\n",
    "            all_outputs.append(output.cpu())\n",
    "            all_labels.append(labels.cpu())\n",
    "\n",
    "    # concatenate all outputs and labels into proper array format\n",
    "    all_outputs = torch.cat(all_outputs).numpy()\n",
    "    all_labels = torch.cat(all_labels).numpy()\n",
    "\n",
    "    # calculate accuracy\n",
    "    predictions = np.argmax(all_outputs, axis=1)\n",
    "    accuracy = accuracy_score(all_labels, predictions)\n",
    "    print(f'Accuracy: {accuracy}')\n",
    "\n",
    "    # generate confusion matrix\n",
    "    cm = confusion_matrix(all_labels, predictions)\n",
    "    print(f'Confusion Matrix:\\n{cm}')\n",
    "\n",
    "    # print classification report (Precision, Recall, F1-Score)\n",
    "    report = classification_report(all_labels, predictions, \n",
    "                                   target_names=[\"blues\", \n",
    "                                                \"country\", \n",
    "                                                \"classical\", \n",
    "                                                \"disco\", \n",
    "                                                \"jazz\", \n",
    "                                                \"hiphop\",  \n",
    "                                                \"reggae\",\n",
    "                                                \"pop\",\n",
    "                                                \"metal\",\n",
    "                                                \"rock\"])\n",
    "    print(f'Classification Report:\\n{report}')\n",
    "\n",
    "    # ROC and AUC (One-vs-Rest approach for multi-class)\n",
    "    roc_auc = roc_auc_score(all_labels, all_outputs, multi_class='ovr')\n",
    "    print(f'ROC AUC Score: {roc_auc}')"
   ]
  },
  {
   "cell_type": "code",
   "execution_count": 5,
   "metadata": {},
   "outputs": [
    {
     "name": "stdout",
     "output_type": "stream",
     "text": [
      "Accuracy: 0.17317317317317318\n",
      "Confusion Matrix:\n",
      "[[61  0  0  0  1  0  9 25  0  4]\n",
      " [ 5  0  0  0  0  0 16 61  0 18]\n",
      " [57  0  0  1  0  0 19 15  0  8]\n",
      " [ 1  0  0  0  0  0  8 49  0 42]\n",
      " [47  0  0  0  0  0 16 26  0 10]\n",
      " [20  0  0  0  0  0  2 36  0 42]\n",
      " [38  0  0  0  1  0 15 40  0  6]\n",
      " [ 1  0  0  0  0  0 20 63  0 16]\n",
      " [23  0  0  1  1  0  5  7  0 63]\n",
      " [28  0  0  0  0  0 14 24  0 34]]\n",
      "Classification Report:\n",
      "              precision    recall  f1-score   support\n",
      "\n",
      "       blues       0.22      0.61      0.32       100\n",
      "     country       0.00      0.00      0.00       100\n",
      "   classical       0.00      0.00      0.00       100\n",
      "       disco       0.00      0.00      0.00       100\n",
      "        jazz       0.00      0.00      0.00        99\n",
      "      hiphop       0.00      0.00      0.00       100\n",
      "      reggae       0.12      0.15      0.13       100\n",
      "         pop       0.18      0.63      0.28       100\n",
      "       metal       0.00      0.00      0.00       100\n",
      "        rock       0.14      0.34      0.20       100\n",
      "\n",
      "    accuracy                           0.17       999\n",
      "   macro avg       0.07      0.17      0.09       999\n",
      "weighted avg       0.07      0.17      0.09       999\n",
      "\n",
      "ROC AUC Score: 0.6170286307644484\n"
     ]
    },
    {
     "name": "stderr",
     "output_type": "stream",
     "text": [
      "c:\\Users\\saman\\AppData\\Local\\Programs\\Python\\Python311\\Lib\\site-packages\\sklearn\\metrics\\_classification.py:1471: UndefinedMetricWarning: Precision and F-score are ill-defined and being set to 0.0 in labels with no predicted samples. Use `zero_division` parameter to control this behavior.\n",
      "  _warn_prf(average, modifier, msg_start, len(result))\n",
      "c:\\Users\\saman\\AppData\\Local\\Programs\\Python\\Python311\\Lib\\site-packages\\sklearn\\metrics\\_classification.py:1471: UndefinedMetricWarning: Precision and F-score are ill-defined and being set to 0.0 in labels with no predicted samples. Use `zero_division` parameter to control this behavior.\n",
      "  _warn_prf(average, modifier, msg_start, len(result))\n",
      "c:\\Users\\saman\\AppData\\Local\\Programs\\Python\\Python311\\Lib\\site-packages\\sklearn\\metrics\\_classification.py:1471: UndefinedMetricWarning: Precision and F-score are ill-defined and being set to 0.0 in labels with no predicted samples. Use `zero_division` parameter to control this behavior.\n",
      "  _warn_prf(average, modifier, msg_start, len(result))\n"
     ]
    }
   ],
   "source": [
    "if __name__ == \"__main__\":\n",
    "    # call test function\n",
    "    test()"
   ]
  }
 ],
 "metadata": {
  "kernelspec": {
   "display_name": "Python 3",
   "language": "python",
   "name": "python3"
  },
  "language_info": {
   "codemirror_mode": {
    "name": "ipython",
    "version": 3
   },
   "file_extension": ".py",
   "mimetype": "text/x-python",
   "name": "python",
   "nbconvert_exporter": "python",
   "pygments_lexer": "ipython3",
   "version": "3.11.6"
  }
 },
 "nbformat": 4,
 "nbformat_minor": 2
}
