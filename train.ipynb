{
 "cells": [
  {
   "cell_type": "code",
   "execution_count": 1,
   "metadata": {},
   "outputs": [
    {
     "ename": "ModuleNotFoundError",
     "evalue": "No module named 'torch'",
     "output_type": "error",
     "traceback": [
      "\u001b[1;31m---------------------------------------------------------------------------\u001b[0m",
      "\u001b[1;31mModuleNotFoundError\u001b[0m                       Traceback (most recent call last)",
      "\u001b[1;32mc:\\Users\\saman\\VSCPython\\CMPE452_Proj\\train.ipynb Cell 1\u001b[0m line \u001b[0;36m4\n\u001b[0;32m      <a href='vscode-notebook-cell:/c%3A/Users/saman/VSCPython/CMPE452_Proj/train.ipynb#W0sZmlsZQ%3D%3D?line=1'>2</a>\u001b[0m \u001b[39mimport\u001b[39;00m \u001b[39mdatetime\u001b[39;00m\n\u001b[0;32m      <a href='vscode-notebook-cell:/c%3A/Users/saman/VSCPython/CMPE452_Proj/train.ipynb#W0sZmlsZQ%3D%3D?line=2'>3</a>\u001b[0m \u001b[39mimport\u001b[39;00m \u001b[39mos\u001b[39;00m\n\u001b[1;32m----> <a href='vscode-notebook-cell:/c%3A/Users/saman/VSCPython/CMPE452_Proj/train.ipynb#W0sZmlsZQ%3D%3D?line=3'>4</a>\u001b[0m \u001b[39mimport\u001b[39;00m \u001b[39mtorch\u001b[39;00m\u001b[39m.\u001b[39;00m\u001b[39mnn\u001b[39;00m \u001b[39mas\u001b[39;00m \u001b[39mnn\u001b[39;00m\n\u001b[0;32m      <a href='vscode-notebook-cell:/c%3A/Users/saman/VSCPython/CMPE452_Proj/train.ipynb#W0sZmlsZQ%3D%3D?line=4'>5</a>\u001b[0m \u001b[39mimport\u001b[39;00m \u001b[39mtorchvision\u001b[39;00m\n\u001b[0;32m      <a href='vscode-notebook-cell:/c%3A/Users/saman/VSCPython/CMPE452_Proj/train.ipynb#W0sZmlsZQ%3D%3D?line=5'>6</a>\u001b[0m \u001b[39mfrom\u001b[39;00m \u001b[39mtorch\u001b[39;00m\u001b[39m.\u001b[39;00m\u001b[39mutils\u001b[39;00m\u001b[39m.\u001b[39;00m\u001b[39mdata\u001b[39;00m \u001b[39mimport\u001b[39;00m DataLoader \u001b[39mas\u001b[39;00m DataLoader\n",
      "\u001b[1;31mModuleNotFoundError\u001b[0m: No module named 'torch'"
     ]
    }
   ],
   "source": [
    "import argparse\n",
    "import datetime\n",
    "import os\n",
    "import torch.nn as nn\n",
    "import torchvision\n",
    "from torch.utils.data import DataLoader as DataLoader\n",
    "#import model as net\n",
    "#import dataProcess as data"
   ]
  },
  {
   "cell_type": "code",
   "execution_count": 3,
   "metadata": {},
   "outputs": [],
   "source": [
    "#set run choices\n",
    "loss_plot = False\n",
    "verbose = True\n",
    "epoch_save = False\n",
    "\n",
    "# set variables\n",
    "#dataset = \n",
    "gamma = 0.1\n",
    "num_epochs = 10\n",
    "batch_size = 32\n",
    "learning_rate = 1e-4\n",
    "weight_decay = 1e-5"
   ]
  },
  {
   "cell_type": "code",
   "execution_count": null,
   "metadata": {},
   "outputs": [],
   "source": [
    "device = torch.device(\"cpu\")\n",
    "\n",
    "#need to change based on model name\n",
    "#this calls the constructor of model class\n",
    "model = net.GenreClassificationANN();\n",
    "\n",
    "#dataloaders\n",
    "data_loader = DataLoader(dataset=dataset, batch_size=batch_size, shuffle=True)\n",
    "\n",
    "#model optimizer\n",
    "model_optimizer = torch.optim.Adam(model.parameters(), lr=learning_rate, weight_decay=weight_decay )\n",
    "\n",
    "#model scheduler\n",
    "model_scheduler = torch.optim.lr_scheduler.StepLR(model_optimizer, step_size=10, gamma=gamma)"
   ]
  },
  {
   "cell_type": "code",
   "execution_count": null,
   "metadata": {},
   "outputs": [],
   "source": [
    "def train():\n",
    "    model.train()\n",
    "    model.to(device)\n",
    "\n",
    "    epoch_losses = []\n",
    "    n_images = 800;\n",
    "    n_batches = int(n_images/batch_size)\n",
    "\n",
    "    for epoch in range(1, num_epochs+1):\n",
    "        batch_losses = []\n",
    "        print(f'Epoch #{epoch}, Start Time: {datetime.datetime.now()}')\n",
    "\n",
    "        data_iter = iter(data_loader)\n",
    "        for batch in range(n_batches):\n",
    "            data = next(data_iter).to(device)\n",
    "        \n",
    "            #calculate losses and call call model\n",
    "            output = model(data)\n",
    "\n",
    "            ####batch loss math######\n",
    "            loss = 0\n",
    "            batch_losses += [float(output.data.item())]\n",
    "\n",
    "            model_optimizer.zero_grad()\n",
    "            loss.backward()\n",
    "            model_optimizer.step()\n",
    "\n",
    "        ###epoch loss math#####\n",
    "\n",
    "        epoch_losses += [sum(batch_losses/n_images)]\n",
    "\n",
    "        model_scheduler.step()\n",
    "\n",
    "        if verbose:\n",
    "            print(f'Loss {epoch_losses[epoch-1]}')\n",
    "\n",
    "        if epoch_save:\n",
    "            model_folder_dir = './temp_models'\n",
    "            if not os.path.isdir( model_folder_dir):\n",
    "                os.mkdir(model_folder_dir)\n",
    "\n",
    "             # save temp model\n",
    "            try:\n",
    "                temp_model_path = model_folder_dir + '/' + str(datetime.datetime.now()) + '_epoch' + str(epoch) + '.pth'\n",
    "                torch.save(model.forward.state_dict(), temp_model_path)\n",
    "                if verbose:\n",
    "                    print(f'Saved model for epoch {epoch} @{temp_model_path}')\n",
    "            except:\n",
    "                print('Epoch model save failed')\n",
    "\n",
    "    #save final model parameters   \n",
    "    torch.save(model.forward.state_dict())\n",
    "\n",
    "    ###generate loss plot####\n"
   ]
  },
  {
   "cell_type": "code",
   "execution_count": null,
   "metadata": {},
   "outputs": [],
   "source": [
    "if __name__ == \"__main__\":\n",
    "    train()"
   ]
  }
 ],
 "metadata": {
  "kernelspec": {
   "display_name": "Python 3",
   "language": "python",
   "name": "python3"
  },
  "language_info": {
   "codemirror_mode": {
    "name": "ipython",
    "version": 3
   },
   "file_extension": ".py",
   "mimetype": "text/x-python",
   "name": "python",
   "nbconvert_exporter": "python",
   "pygments_lexer": "ipython3",
   "version": "3.11.6"
  }
 },
 "nbformat": 4,
 "nbformat_minor": 2
}
