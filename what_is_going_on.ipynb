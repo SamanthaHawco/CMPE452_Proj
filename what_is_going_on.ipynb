{
 "cells": [
  {
   "cell_type": "markdown",
   "metadata": {},
   "source": [
    "# What Is Going On: An Organizational Tool\n"
   ]
  },
  {
   "cell_type": "markdown",
   "metadata": {},
   "source": [
    "## Overview: What is done, what needs to be done?\n",
    "### Done\n",
    "\n",
    "\n",
    "### In Progress\n",
    "- data processing \n",
    "- model\n",
    "- train file\n",
    "\n",
    "### To Do\n",
    "\n",
    "- test file\n"
   ]
  },
  {
   "cell_type": "markdown",
   "metadata": {},
   "source": [
    "# General Notes and Updates"
   ]
  },
  {
   "cell_type": "markdown",
   "metadata": {},
   "source": [
    "### Leanne\n",
    "- "
   ]
  },
  {
   "cell_type": "markdown",
   "metadata": {},
   "source": [
    "### Joe\n",
    "- "
   ]
  },
  {
   "cell_type": "markdown",
   "metadata": {},
   "source": [
    "### Sam\n",
    "\n",
    "Current Work:\n",
    "- data split 80-20\n",
    "- inital training py\n",
    "- inital model py\n",
    "- Dataset processor getting built\n",
    "    \n",
    "TO Do: \n",
    "- need to convert data to melspectogram before split\n",
    "\n"
   ]
  }
 ],
 "metadata": {
  "kernelspec": {
   "display_name": "Python 3",
   "language": "python",
   "name": "python3"
  },
  "language_info": {
   "name": "python",
   "version": "3.12.0"
  }
 },
 "nbformat": 4,
 "nbformat_minor": 2
}
