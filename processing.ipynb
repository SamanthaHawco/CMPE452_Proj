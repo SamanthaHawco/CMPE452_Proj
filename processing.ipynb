{
 "cells": [
  {
   "cell_type": "code",
   "execution_count": 150,
   "metadata": {},
   "outputs": [],
   "source": [
    "import numpy as np\n",
    "import pandas as pd\n",
    "import os\n",
    "import shutil\n",
    "import re\n",
    "\n",
    "import PIL.Image as I"
   ]
  },
  {
   "cell_type": "code",
   "execution_count": 151,
   "metadata": {},
   "outputs": [],
   "source": [
    "# normalization function\n",
    "def normalize(path):\n",
    "    image = I.open(path)\n",
    "\n",
    "    # convert image to array\n",
    "    img_array = np.array(image)\n",
    "\n",
    "    # get image size from min/max pixels and normalize\n",
    "    img_size = float(img_array.max() - img_array.min())\n",
    "\n",
    "    img_normalized = img_array / img_size\n",
    "\n",
    "    return img_normalized\n",
    "\n",
    "# split file content 80/20 and send to directories\n",
    "#def split(genre, train, test):\n",
    "\n"
   ]
  },
  {
   "cell_type": "code",
   "execution_count": 152,
   "metadata": {},
   "outputs": [],
   "source": [
    "# directories for original datset and training/testing sets\n",
    "og_dir = 'images/images_original/'\n",
    "train_dir, test_dir = 'images/training', 'images/testing'\n",
    "\n",
    "# creating training and testing directories\n",
    "os.makedirs(train_dir, exist_ok=True)\n",
    "os.makedirs(test_dir, exist_ok=True)\n",
    "\n",
    "# iterate through each genre subfolder\n",
    "for genre_dir, _, images in os.walk(og_dir):\n",
    "    # get genre label\n",
    "    genre = os.path.basename(genre_dir)\n",
    "    \n",
    "    # split 80/20 for training/testing\n",
    "    test_imgs, train_imgs = images[:20], images[20:]\n",
    "\n",
    "    for img in test_imgs: shutil.copy(os.path.join(genre_dir, img), test_dir)\n",
    "    for img in train_imgs: shutil.copy(os.path.join(genre_dir, img), train_dir)\n",
    "\n",
    "\n",
    "\n",
    "    # replace file names and create label glossary\n"
   ]
  },
  {
   "cell_type": "code",
   "execution_count": 153,
   "metadata": {},
   "outputs": [],
   "source": [
    "def get_genre(name):\n",
    "    genre = name.split('png')\n",
    "    genre = ''.join(char for char in genre[0] if not char.isdigit())\n",
    "    return genre"
   ]
  },
  {
   "cell_type": "code",
   "execution_count": 155,
   "metadata": {},
   "outputs": [
    {
     "ename": "PermissionError",
     "evalue": "[WinError 32] The process cannot access the file because it is being used by another process: 'images/test\\\\labels.txt' -> 'images/test\\\\240.png'",
     "output_type": "error",
     "traceback": [
      "\u001b[1;31m---------------------------------------------------------------------------\u001b[0m",
      "\u001b[1;31mPermissionError\u001b[0m                           Traceback (most recent call last)",
      "\u001b[1;32mc:\\Users\\Leanne\\VSCProjects\\PythonVSC\\CMPE452_Proj\\processing.ipynb Cell 5\u001b[0m line \u001b[0;36m2\n\u001b[0;32m     <a href='vscode-notebook-cell:/c%3A/Users/Leanne/VSCProjects/PythonVSC/CMPE452_Proj/processing.ipynb#X44sZmlsZQ%3D%3D?line=23'>24</a>\u001b[0m             f\u001b[39m.\u001b[39mwrite(\u001b[39m'\u001b[39m\u001b[39m{}\u001b[39;00m\u001b[39m, \u001b[39m\u001b[39m{}\u001b[39;00m\u001b[39m\\n\u001b[39;00m\u001b[39m'\u001b[39m\u001b[39m.\u001b[39mformat(newname, genre))\n\u001b[0;32m     <a href='vscode-notebook-cell:/c%3A/Users/Leanne/VSCProjects/PythonVSC/CMPE452_Proj/processing.ipynb#X44sZmlsZQ%3D%3D?line=24'>25</a>\u001b[0m             f\u001b[39m.\u001b[39mclose()\n\u001b[1;32m---> <a href='vscode-notebook-cell:/c%3A/Users/Leanne/VSCProjects/PythonVSC/CMPE452_Proj/processing.ipynb#X44sZmlsZQ%3D%3D?line=27'>28</a>\u001b[0m text(test_dir, \u001b[39m'\u001b[39;49m\u001b[39mimages/test\u001b[39;49m\u001b[39m'\u001b[39;49m)   \n",
      "\u001b[1;32mc:\\Users\\Leanne\\VSCProjects\\PythonVSC\\CMPE452_Proj\\processing.ipynb Cell 5\u001b[0m line \u001b[0;36m1\n\u001b[0;32m     <a href='vscode-notebook-cell:/c%3A/Users/Leanne/VSCProjects/PythonVSC/CMPE452_Proj/processing.ipynb#X44sZmlsZQ%3D%3D?line=13'>14</a>\u001b[0m newname \u001b[39m=\u001b[39m \u001b[39mf\u001b[39m\u001b[39m'\u001b[39m\u001b[39m{\u001b[39;00mi\u001b[39m:\u001b[39;00m\u001b[39m02\u001b[39m\u001b[39m}\u001b[39;00m\u001b[39m.png\u001b[39m\u001b[39m'\u001b[39m\n\u001b[0;32m     <a href='vscode-notebook-cell:/c%3A/Users/Leanne/VSCProjects/PythonVSC/CMPE452_Proj/processing.ipynb#X44sZmlsZQ%3D%3D?line=15'>16</a>\u001b[0m \u001b[39mtry\u001b[39;00m:\n\u001b[1;32m---> <a href='vscode-notebook-cell:/c%3A/Users/Leanne/VSCProjects/PythonVSC/CMPE452_Proj/processing.ipynb#X44sZmlsZQ%3D%3D?line=16'>17</a>\u001b[0m     os\u001b[39m.\u001b[39;49mrename(os\u001b[39m.\u001b[39;49mpath\u001b[39m.\u001b[39;49mjoin(newdir, images[i]), os\u001b[39m.\u001b[39;49mpath\u001b[39m.\u001b[39;49mjoin(newdir, newname))\n\u001b[0;32m     <a href='vscode-notebook-cell:/c%3A/Users/Leanne/VSCProjects/PythonVSC/CMPE452_Proj/processing.ipynb#X44sZmlsZQ%3D%3D?line=17'>18</a>\u001b[0m \u001b[39mexcept\u001b[39;00m \u001b[39mFileExistsError\u001b[39;00m:\n\u001b[0;32m     <a href='vscode-notebook-cell:/c%3A/Users/Leanne/VSCProjects/PythonVSC/CMPE452_Proj/processing.ipynb#X44sZmlsZQ%3D%3D?line=18'>19</a>\u001b[0m     \u001b[39mpass\u001b[39;00m\n",
      "\u001b[1;31mPermissionError\u001b[0m: [WinError 32] The process cannot access the file because it is being used by another process: 'images/test\\\\labels.txt' -> 'images/test\\\\240.png'"
     ]
    }
   ],
   "source": [
    "# replace image names with numbers and create text doc with labels\n",
    "def text(olddir, newdir):\n",
    "    # create the new directory\n",
    "    os.makedirs(newdir, exist_ok=True)\n",
    "         \n",
    "    for direc, _, images in os.walk(olddir):\n",
    "        for i in range(len(images)):\n",
    "            # copy all images to the new directory\n",
    "            shutil.copy(os.path.join(olddir, images[i]), newdir)\n",
    "        \n",
    "    for direc, _, images in os.walk(newdir):\n",
    "        for i in range(len(images)):\n",
    "            newname = f'{i:02}.png'\n",
    "\n",
    "            try:\n",
    "                os.rename(os.path.join(newdir, images[i]), os.path.join(newdir, newname))\n",
    "            except FileExistsError:\n",
    "                pass\n",
    "\n",
    "            # get genre (you need to define or import the get_genre function)\n",
    "            genre = get_genre(images[i])\n",
    "\n",
    "            label = '{}, {}'.format(newname, genre)\n",
    "            print(label)\n",
    "        # f = open('labels.txt', 'w')\n",
    "        # f.write('{}, {}\\n'.format(newname, genre))\n",
    "        # f.close()\n",
    "\n",
    "           \n",
    "\n",
    "text(test_dir, 'images/test')   \n",
    "\n"
   ]
  },
  {
   "cell_type": "code",
   "execution_count": null,
   "metadata": {},
   "outputs": [],
   "source": [
    "import os\n",
    "import shutil\n",
    "from sklearn.model_selection import train_test_split\n",
    "\n",
    "original_folder = 'path/to/your/original/dataset'\n",
    "training_folder = 'path/to/training'\n",
    "testing_folder = 'path/to/testing'\n",
    "\n",
    "# Create training and testing directories\n",
    "os.makedirs(training_folder, exist_ok=True)\n",
    "os.makedirs(testing_folder, exist_ok=True)\n",
    "\n",
    "# Function to split data and move files\n",
    "def split_and_move_files(genre, file_list, train_files, test_files):\n",
    "    for file in file_list:\n",
    "        if file in train_files:\n",
    "            shutil.copy(os.path.join(original_folder, genre, file), os.path.join(training_folder, genre, file))\n",
    "        else:\n",
    "            shutil.copy(os.path.join(original_folder, genre, file), os.path.join(testing_folder, genre, file))\n",
    "\n",
    "# Iterate over each genre subfolder\n",
    "for genre in os.listdir(original_folder):\n",
    "    if os.path.isdir(os.path.join(original_folder, genre)):\n",
    "        os.makedirs(os.path.join(training_folder, genre), exist_ok=True)\n",
    "        os.makedirs(os.path.join(testing_folder, genre), exist_ok=True)\n",
    "\n",
    "        # List all files in the genre subfolder\n",
    "        files = [f for f in os.listdir(os.path.join(original_folder, genre)) if f.endswith('.png')]\n",
    "        train_files, test_files = train_test_split(files, test_size=0.2, random_state=42)  # 20% for testing\n",
    "\n",
    "        # Move files to respective folders\n",
    "        split_and_move_files(genre, files, train_files, test_files)\n",
    "\n",
    "# Function to write file names and labels to a text file\n",
    "def write_filenames_to_txt(folder, txt_file_path):\n",
    "    with open(txt_file_path, 'w') as txt_file:\n",
    "        for genre in os.listdir(folder):\n",
    "            if os.path.isdir(os.path.join(folder, genre)):\n",
    "                for file in os.listdir(os.path.join(folder, genre)):\n",
    "                    txt_file.write(f\"{file}, {genre}\\n\")\n",
    "\n",
    "# Write filenames and labels for training and testing sets\n",
    "write_filenames_to_txt(training_folder, os.path.join(training_folder, 'labels.txt'))\n",
    "write_filenames_to_txt(testing_folder, os.path.join(testing_folder, 'labels.txt'))"
   ]
  }
 ],
 "metadata": {
  "kernelspec": {
   "display_name": "Python 3",
   "language": "python",
   "name": "python3"
  },
  "language_info": {
   "codemirror_mode": {
    "name": "ipython",
    "version": 3
   },
   "file_extension": ".py",
   "mimetype": "text/x-python",
   "name": "python",
   "nbconvert_exporter": "python",
   "pygments_lexer": "ipython3",
   "version": "3.10.1"
  }
 },
 "nbformat": 4,
 "nbformat_minor": 2
}
