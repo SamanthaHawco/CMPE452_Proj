{
 "cells": [
  {
   "cell_type": "code",
   "execution_count": 205,
   "metadata": {},
   "outputs": [],
   "source": [
    "import numpy as np\n",
    "import pandas as pd\n",
    "import os\n",
    "import shutil\n",
    "import re\n",
    "\n",
    "import PIL.Image as I"
   ]
  },
  {
   "cell_type": "code",
   "execution_count": 206,
   "metadata": {},
   "outputs": [],
   "source": [
    "# normalization function\n",
    "def normalize(path):\n",
    "    image = I.open(path)\n",
    "\n",
    "    # convert image to array\n",
    "    img_array = np.array(image)\n",
    "\n",
    "    # get image size from min/max pixels and normalize\n",
    "    img_size = float(img_array.max() - img_array.min())\n",
    "\n",
    "    img_normalized = img_array / img_size\n",
    "\n",
    "    return img_normalized\n"
   ]
  },
  {
   "cell_type": "code",
   "execution_count": 217,
   "metadata": {},
   "outputs": [],
   "source": [
    "# directories for original datset and training/testing sets\n",
    "og_dir = 'images/images_original/'\n",
    "train_dir, test_dir = 'images/training', 'images/testing'\n",
    "\n",
    "# creating training and testing directories\n",
    "os.makedirs(train_dir, exist_ok=True)\n",
    "os.makedirs(test_dir, exist_ok=True)\n",
    "\n",
    "testlabels, trainlabels = test_dir + '/labels.txt', train_dir + '/labels.txt'\n",
    "ftest, ftrain = open(testlabels, 'w'), open(trainlabels, 'w')\n",
    "\n",
    "# iterate through each genre subfolder\n",
    "for genre_dir, _, images in os.walk(og_dir):\n",
    "    # get genre label\n",
    "    genre = os.path.basename(genre_dir)\n",
    "    \n",
    "    # split 80/20 for training/testing\n",
    "    test_imgs, train_imgs = images[:20], images[20:]\n",
    "\n",
    "\n",
    "    for img in test_imgs:\n",
    "        shutil.copy(os.path.join(genre_dir, img), test_dir)\n",
    "        ftest.write('{}, {}\\n'.format(img, genre))\n",
    "    for img in train_imgs: \n",
    "        shutil.copy(os.path.join(genre_dir, img), train_dir)\n",
    "        ftrain.write('{}, {}\\n'.format(img, genre))\n",
    "\n",
    "ftest.close()\n",
    "ftrain.close()\n"
   ]
  }
 ],
 "metadata": {
  "kernelspec": {
   "display_name": "Python 3",
   "language": "python",
   "name": "python3"
  },
  "language_info": {
   "codemirror_mode": {
    "name": "ipython",
    "version": 3
   },
   "file_extension": ".py",
   "mimetype": "text/x-python",
   "name": "python",
   "nbconvert_exporter": "python",
   "pygments_lexer": "ipython3",
   "version": "3.10.1"
  }
 },
 "nbformat": 4,
 "nbformat_minor": 2
}
