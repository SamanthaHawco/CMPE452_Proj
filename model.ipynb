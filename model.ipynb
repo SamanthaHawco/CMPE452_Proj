{
 "cells": [
  {
   "cell_type": "markdown",
   "metadata": {},
   "source": [
    "## Model Implement for GTZAN Audio File Dataset\n",
    "Written by Joseph McConkey, 20179053 <br>\n",
    "Date started: 2023-11-18 <br>\n",
    "Last modified: 2023-11-18\n",
    "\n",
    "Status: generic draft"
   ]
  },
  {
   "cell_type": "code",
   "execution_count": 2,
   "metadata": {},
   "outputs": [],
   "source": [
    "import torch\n",
    "import torch.nn as nn\n",
    "import torch.nn.functional as F"
   ]
  },
  {
   "cell_type": "code",
   "execution_count": 3,
   "metadata": {},
   "outputs": [],
   "source": [
    "\n",
    "# Generic ANN Model for Classification of Songs into 10 Genres. \n",
    "class GenreClassificationANN(nn.Module):\n",
    "    def __init__(self):\n",
    "        super(GenreClassificationANN, self).__init__()\n",
    "        \n",
    "        \n",
    "        # Define the layers of the network\n",
    "        self.fc1 = nn.Linear(500, 256)\n",
    "        self.fc2 = nn.Linear(256, 128)\n",
    "        self.fc3 = nn.Linear(128, 64)\n",
    "        self.fc4 = nn.Linear(64, 10)    # assuming 10 different genres to classify\n",
    "        \n",
    "\n",
    "        # Initialize weights\n",
    "        self.init_weights()\n",
    "\n",
    "    def init_weights(self):\n",
    "        # Initialize weights using Xavier initialization and biases to zero\n",
    "        nn.init.xavier_uniform_(self.fc1.weight)\n",
    "        nn.init.constant_(self.fc1.bias, 0)\n",
    "        nn.init.xavier_uniform_(self.fc2.weight)\n",
    "        nn.init.constant_(self.fc2.bias, 0)\n",
    "        nn.init.xavier_uniform_(self.fc3.weight)\n",
    "        nn.init.constant_(self.fc3.bias, 0)\n",
    "        nn.init.xavier_uniform_(self.fc4.weight)\n",
    "        nn.init.constant_(self.fc4.bias, 0)\n",
    "\n",
    "    def forward(self, x):\n",
    "        # Apply ReLU activation to each layer except the output\n",
    "        x = F.relu(self.fc1(x))\n",
    "        x = F.relu(self.fc2(x))\n",
    "        x = F.relu(self.fc3(x))\n",
    "        # The output layer with a softmax activation function\n",
    "        x = F.softmax(self.fc4(x), dim=1)\n",
    "        return x"
   ]
  }
 ],
 "metadata": {
  "kernelspec": {
   "display_name": "Python 3",
   "language": "python",
   "name": "python3"
  },
  "language_info": {
   "codemirror_mode": {
    "name": "ipython",
    "version": 3
   },
   "file_extension": ".py",
   "mimetype": "text/x-python",
   "name": "python",
   "nbconvert_exporter": "python",
   "pygments_lexer": "ipython3",
   "version": "3.10.1"
  }
 },
 "nbformat": 4,
 "nbformat_minor": 2
}
